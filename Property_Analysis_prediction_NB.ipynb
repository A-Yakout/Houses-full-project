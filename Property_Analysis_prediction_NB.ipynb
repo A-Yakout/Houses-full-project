{
 "cells": [
  {
   "cell_type": "code",
   "execution_count": 1,
   "id": "dc597ec3",
   "metadata": {},
   "outputs": [],
   "source": [
    "import pandas as pd \n",
    "import matplotlib.pyplot as plt\n",
    "import seaborn as sns\n",
    "import numpy as np\n",
    "from datetime import datetime, timedelta\n",
    "pd.set_option('display.float_format', '{:,.2f}'.format)"
   ]
  },
  {
   "cell_type": "code",
   "execution_count": 2,
   "id": "7310a1f5",
   "metadata": {},
   "outputs": [],
   "source": [
    "# Concating the 2 DF of web scraped Alex properties with the 2 DF of web scraped Cairo properties\n",
    "df1=pd.read_excel(r'C:\\Users\\HP\\Downloads\\program files\\property_finder_data_cairo.xlsx')\n",
    "df2 = pd.read_excel(r'C:\\Users\\HP\\Downloads\\program files\\property_finder_data_cairo2.xlsx')\n",
    "df3=pd.read_excel(r'C:\\Users\\HP\\Downloads\\program files\\property_finder_data_2.xlsx')\n",
    "df4 = pd.read_excel(r'C:\\Users\\HP\\Downloads\\program files\\property_finder_data.xlsx')\n",
    "dfa = pd.concat([df1, df2], ignore_index=True)\n",
    "dfc = pd.concat([df3, df4], ignore_index=True)\n",
    "df = pd.concat([dfa, dfc], ignore_index=True)"
   ]
  },
  {
   "cell_type": "code",
   "execution_count": 3,
   "id": "ee8af99c",
   "metadata": {},
   "outputs": [
    {
     "data": {
      "text/html": [
       "<div>\n",
       "<style scoped>\n",
       "    .dataframe tbody tr th:only-of-type {\n",
       "        vertical-align: middle;\n",
       "    }\n",
       "\n",
       "    .dataframe tbody tr th {\n",
       "        vertical-align: top;\n",
       "    }\n",
       "\n",
       "    .dataframe thead th {\n",
       "        text-align: right;\n",
       "    }\n",
       "</style>\n",
       "<table border=\"1\" class=\"dataframe\">\n",
       "  <thead>\n",
       "    <tr style=\"text-align: right;\">\n",
       "      <th></th>\n",
       "      <th>Property_type</th>\n",
       "      <th>Price</th>\n",
       "      <th>Area</th>\n",
       "      <th>Location</th>\n",
       "      <th>Date_listed</th>\n",
       "      <th>#bedrooms</th>\n",
       "      <th>#bathrooms</th>\n",
       "      <th>Telephone</th>\n",
       "    </tr>\n",
       "  </thead>\n",
       "  <tbody>\n",
       "    <tr>\n",
       "      <th>0</th>\n",
       "      <td>Apartment</td>\n",
       "      <td>5,500,000 EGP</td>\n",
       "      <td>225 sqm</td>\n",
       "      <td>Promenade New Cairo, 5th Settlement Compounds,...</td>\n",
       "      <td>Listed 11 hours ago</td>\n",
       "      <td>3</td>\n",
       "      <td>3</td>\n",
       "      <td>tel:+201110003716</td>\n",
       "    </tr>\n",
       "    <tr>\n",
       "      <th>1</th>\n",
       "      <td>Duplex</td>\n",
       "      <td>5,390,000 EGP</td>\n",
       "      <td>146 sqm</td>\n",
       "      <td>TRIO, 5th Settlement Compounds, The 5th Settle...</td>\n",
       "      <td>Listed 1 month ago</td>\n",
       "      <td>2</td>\n",
       "      <td>3</td>\n",
       "      <td>tel:+201144445606</td>\n",
       "    </tr>\n",
       "    <tr>\n",
       "      <th>2</th>\n",
       "      <td>Apartment</td>\n",
       "      <td>16,000,000 EGP</td>\n",
       "      <td>190 sqm</td>\n",
       "      <td>El Patio Vida, The 6th Settlement, New Cairo C...</td>\n",
       "      <td>Listed 5 hours ago</td>\n",
       "      <td>3</td>\n",
       "      <td>3</td>\n",
       "      <td>tel:+20221257009</td>\n",
       "    </tr>\n",
       "    <tr>\n",
       "      <th>3</th>\n",
       "      <td>Apartment</td>\n",
       "      <td>5,400,000 EGP</td>\n",
       "      <td>140 sqm</td>\n",
       "      <td>Mountain View iCity, 5th Settlement Compounds,...</td>\n",
       "      <td>Listed 5 hours ago</td>\n",
       "      <td>2</td>\n",
       "      <td>2</td>\n",
       "      <td>tel:+20221208148</td>\n",
       "    </tr>\n",
       "    <tr>\n",
       "      <th>4</th>\n",
       "      <td>Apartment</td>\n",
       "      <td>7,500,000 EGP</td>\n",
       "      <td>185 sqm</td>\n",
       "      <td>Palm Hills New Cairo, 5th Settlement Compounds...</td>\n",
       "      <td>Listed 1 month ago</td>\n",
       "      <td>3</td>\n",
       "      <td>3</td>\n",
       "      <td>tel:+20221208148</td>\n",
       "    </tr>\n",
       "  </tbody>\n",
       "</table>\n",
       "</div>"
      ],
      "text/plain": [
       "  Property_type           Price     Area  \\\n",
       "0     Apartment   5,500,000 EGP  225 sqm   \n",
       "1        Duplex   5,390,000 EGP  146 sqm   \n",
       "2     Apartment  16,000,000 EGP  190 sqm   \n",
       "3     Apartment   5,400,000 EGP  140 sqm   \n",
       "4     Apartment   7,500,000 EGP  185 sqm   \n",
       "\n",
       "                                            Location          Date_listed  \\\n",
       "0  Promenade New Cairo, 5th Settlement Compounds,...  Listed 11 hours ago   \n",
       "1  TRIO, 5th Settlement Compounds, The 5th Settle...   Listed 1 month ago   \n",
       "2  El Patio Vida, The 6th Settlement, New Cairo C...   Listed 5 hours ago   \n",
       "3  Mountain View iCity, 5th Settlement Compounds,...   Listed 5 hours ago   \n",
       "4  Palm Hills New Cairo, 5th Settlement Compounds...   Listed 1 month ago   \n",
       "\n",
       "  #bedrooms #bathrooms          Telephone  \n",
       "0         3          3  tel:+201110003716  \n",
       "1         2          3  tel:+201144445606  \n",
       "2         3          3   tel:+20221257009  \n",
       "3         2          2   tel:+20221208148  \n",
       "4         3          3   tel:+20221208148  "
      ]
     },
     "execution_count": 3,
     "metadata": {},
     "output_type": "execute_result"
    }
   ],
   "source": [
    "df.head()"
   ]
  },
  {
   "cell_type": "code",
   "execution_count": 4,
   "id": "8749902d",
   "metadata": {},
   "outputs": [
    {
     "data": {
      "text/plain": [
       "(4911, 8)"
      ]
     },
     "execution_count": 4,
     "metadata": {},
     "output_type": "execute_result"
    }
   ],
   "source": [
    "df.shape"
   ]
  },
  {
   "cell_type": "code",
   "execution_count": 5,
   "id": "25583fe2",
   "metadata": {},
   "outputs": [
    {
     "name": "stdout",
     "output_type": "stream",
     "text": [
      "<class 'pandas.core.frame.DataFrame'>\n",
      "RangeIndex: 4911 entries, 0 to 4910\n",
      "Data columns (total 8 columns):\n",
      " #   Column         Non-Null Count  Dtype \n",
      "---  ------         --------------  ----- \n",
      " 0   Property_type  4911 non-null   object\n",
      " 1   Price          4911 non-null   object\n",
      " 2   Area           4911 non-null   object\n",
      " 3   Location       4911 non-null   object\n",
      " 4   Date_listed    4911 non-null   object\n",
      " 5   #bedrooms      4911 non-null   object\n",
      " 6   #bathrooms     4911 non-null   object\n",
      " 7   Telephone      4911 non-null   object\n",
      "dtypes: object(8)\n",
      "memory usage: 307.1+ KB\n"
     ]
    }
   ],
   "source": [
    "df.info()"
   ]
  },
  {
   "cell_type": "code",
   "execution_count": 6,
   "id": "7877d80b",
   "metadata": {},
   "outputs": [],
   "source": [
    "# Adjusting the price column \n",
    "df['Price'] = df['Price'].str.replace('EGP','',regex=False)\n",
    "df['Price'] = df['Price'].str.replace(',','',regex=False)\n",
    "df = df[df['Price'] != 'Ask for price']\n",
    "df['Price'] = pd.to_numeric(df['Price'])"
   ]
  },
  {
   "cell_type": "code",
   "execution_count": 7,
   "id": "32b4c284",
   "metadata": {},
   "outputs": [],
   "source": [
    "# Adjusting the Area column\n",
    "df['Area'] = df['Area'].str.replace(',', '').str.strip()\n",
    "df['Area'] = df['Area'].str.replace('sqm','',regex=False)\n",
    "df['Area'] = pd.to_numeric(df['Area'])"
   ]
  },
  {
   "cell_type": "code",
   "execution_count": 8,
   "id": "17892ae7",
   "metadata": {},
   "outputs": [],
   "source": [
    "# Adjusting the Date Listed column\n",
    "df['Date_listed'] = df['Date_listed'].str.replace('more than','')\n",
    "def get_month(text):\n",
    "    today = datetime.today()\n",
    "    num = int(text.split()[1])\n",
    "    \n",
    "    if 'minute' in text:\n",
    "        date = today - timedelta(minutes=num)\n",
    "    elif 'hour' in text:\n",
    "        date = today - timedelta(hours=num)\n",
    "    elif 'day' in text:\n",
    "        date = today - timedelta(days=num)\n",
    "        \n",
    "    elif 'month' in text:\n",
    "        date = today - pd.DateOffset(months=num)\n",
    "        \n",
    "    else:\n",
    "        return None\n",
    "    \n",
    "    return date.strftime('%B')\n",
    "\n",
    "df['listed_month'] = df['Date_listed'].apply(get_month)   "
   ]
  },
  {
   "cell_type": "code",
   "execution_count": 9,
   "id": "28338cca",
   "metadata": {},
   "outputs": [],
   "source": [
    "# Adjusting the Telephone column\n",
    "df['Telephone'] = df['Telephone'].str.replace('tel:+2','')\n"
   ]
  },
  {
   "cell_type": "code",
   "execution_count": 10,
   "id": "5723cdf8",
   "metadata": {},
   "outputs": [],
   "source": [
    "# Adjust rooms columns , when rooms more than 7 it written in the web as 7+ that making issues in converting the column to numeric\n",
    "df = df[df['#bedrooms'] != 'studio']\n",
    "df['#bathrooms'] = df['#bathrooms'].str.replace('7+','7')\n",
    "df['#bedrooms'] = df['#bedrooms'].str.replace('7+','7')\n",
    "df['#bedrooms'] = pd.to_numeric(df['#bedrooms'])\n",
    "df['#bathrooms'] = pd.to_numeric(df['#bathrooms'])"
   ]
  },
  {
   "cell_type": "code",
   "execution_count": 11,
   "id": "9ad44826",
   "metadata": {},
   "outputs": [
    {
     "name": "stderr",
     "output_type": "stream",
     "text": [
      "C:\\Users\\HP\\AppData\\Local\\Temp\\ipykernel_2596\\379051832.py:8: FutureWarning: DataFrame.applymap has been deprecated. Use DataFrame.map instead.\n",
      "  df_split = df_split.applymap(lambda x: np.nan if x is None else x)\n"
     ]
    }
   ],
   "source": [
    "df_split = df['Location'].str.split(',', expand=True)\n",
    "\n",
    "# Rename columns dynamically based on the number of splits\n",
    "# Because for example when i put 3 columm name it tells me that some values are 4 elements \n",
    "# So it determine the number of columns for each row \n",
    "df_split.columns = [f'Part_{i+1}' for i in range(df_split.shape[1])]\n",
    "\n",
    "df_split = df_split.applymap(lambda x: np.nan if x is None else x)\n",
    "\n",
    "# Replace NaN in Part_5 with values from Part_4\n",
    "df_split['Part_5'] = df_split['Part_5'].fillna(df_split['Part_4']).fillna(df_split['Part_3'])\n",
    "# Join the split columns back into the original dataframe\n",
    "df = df.join(df_split)\n"
   ]
  },
  {
   "cell_type": "code",
   "execution_count": 12,
   "id": "e561b4ee",
   "metadata": {},
   "outputs": [],
   "source": [
    "# Remove unwanted columns\n",
    "df= df.drop(columns=['Part_4','Location','Date_listed'])"
   ]
  },
  {
   "cell_type": "code",
   "execution_count": 13,
   "id": "4ebbe99e",
   "metadata": {},
   "outputs": [],
   "source": [
    "df['Part_3'] = df['Part_3'].fillna(df['Part_3'].mode()[0])\n",
    "df['Part_3'] = df['Part_3'].str.replace(' Alexandria',' Alexandria Compounds')\n",
    "df['Part_2'] = df['Part_2'].str.strip()\n",
    "df['Part_3'] = df['Part_3'].str.strip()"
   ]
  },
  {
   "cell_type": "code",
   "execution_count": 14,
   "id": "66b0f133",
   "metadata": {},
   "outputs": [],
   "source": [
    "# Add Three important columns\n",
    "df['Total_rooms'] = df['#bathrooms'] + df['#bedrooms']\n",
    "df['Price per sqm'] = ((df['Price'] / df['Area'])).round(2).astype(float)\n",
    "df['Price per Room'] = (df['Price'] / df['Total_rooms']).round(2).astype(float)\n",
    "df['Price'] = df['Price'].astype(float).round(1)"
   ]
  },
  {
   "cell_type": "code",
   "execution_count": 15,
   "id": "704ffb74",
   "metadata": {},
   "outputs": [],
   "source": [
    "# Renaming the columns\n",
    "df.columns = ['Property_type','Price','Area_in_sqm','Bedrooms',\n",
    "              'Bathrooms','Telephone','Listed_Month','Street',\n",
    "              'Region','EL_Hay','City','Total_rooms','Price_per_sqm','Price_per_room']"
   ]
  },
  {
   "cell_type": "code",
   "execution_count": 16,
   "id": "5e0099c7",
   "metadata": {},
   "outputs": [
    {
     "data": {
      "text/html": [
       "<div>\n",
       "<style scoped>\n",
       "    .dataframe tbody tr th:only-of-type {\n",
       "        vertical-align: middle;\n",
       "    }\n",
       "\n",
       "    .dataframe tbody tr th {\n",
       "        vertical-align: top;\n",
       "    }\n",
       "\n",
       "    .dataframe thead th {\n",
       "        text-align: right;\n",
       "    }\n",
       "</style>\n",
       "<table border=\"1\" class=\"dataframe\">\n",
       "  <thead>\n",
       "    <tr style=\"text-align: right;\">\n",
       "      <th></th>\n",
       "      <th>Property_type</th>\n",
       "      <th>Price</th>\n",
       "      <th>Area_in_sqm</th>\n",
       "      <th>Bedrooms</th>\n",
       "      <th>Bathrooms</th>\n",
       "      <th>Telephone</th>\n",
       "      <th>Listed_Month</th>\n",
       "      <th>Street</th>\n",
       "      <th>Region</th>\n",
       "      <th>EL_Hay</th>\n",
       "      <th>City</th>\n",
       "      <th>Total_rooms</th>\n",
       "      <th>Price_per_sqm</th>\n",
       "      <th>Price_per_room</th>\n",
       "    </tr>\n",
       "  </thead>\n",
       "  <tbody>\n",
       "    <tr>\n",
       "      <th>0</th>\n",
       "      <td>Apartment</td>\n",
       "      <td>5,500,000.00</td>\n",
       "      <td>225</td>\n",
       "      <td>3</td>\n",
       "      <td>3</td>\n",
       "      <td>01110003716</td>\n",
       "      <td>April</td>\n",
       "      <td>Promenade New Cairo</td>\n",
       "      <td>5th Settlement Compounds</td>\n",
       "      <td>The 5th Settlement</td>\n",
       "      <td>Cairo</td>\n",
       "      <td>6</td>\n",
       "      <td>24,444.44</td>\n",
       "      <td>916,666.67</td>\n",
       "    </tr>\n",
       "    <tr>\n",
       "      <th>1</th>\n",
       "      <td>Duplex</td>\n",
       "      <td>5,390,000.00</td>\n",
       "      <td>146</td>\n",
       "      <td>2</td>\n",
       "      <td>3</td>\n",
       "      <td>01144445606</td>\n",
       "      <td>March</td>\n",
       "      <td>TRIO</td>\n",
       "      <td>5th Settlement Compounds</td>\n",
       "      <td>The 5th Settlement</td>\n",
       "      <td>Cairo</td>\n",
       "      <td>5</td>\n",
       "      <td>36,917.81</td>\n",
       "      <td>1,078,000.00</td>\n",
       "    </tr>\n",
       "  </tbody>\n",
       "</table>\n",
       "</div>"
      ],
      "text/plain": [
       "  Property_type        Price  Area_in_sqm  Bedrooms  Bathrooms    Telephone  \\\n",
       "0     Apartment 5,500,000.00          225         3          3  01110003716   \n",
       "1        Duplex 5,390,000.00          146         2          3  01144445606   \n",
       "\n",
       "  Listed_Month               Street                    Region  \\\n",
       "0        April  Promenade New Cairo  5th Settlement Compounds   \n",
       "1        March                 TRIO  5th Settlement Compounds   \n",
       "\n",
       "               EL_Hay    City  Total_rooms  Price_per_sqm  Price_per_room  \n",
       "0  The 5th Settlement   Cairo            6      24,444.44      916,666.67  \n",
       "1  The 5th Settlement   Cairo            5      36,917.81    1,078,000.00  "
      ]
     },
     "execution_count": 16,
     "metadata": {},
     "output_type": "execute_result"
    }
   ],
   "source": [
    "df.head(2)"
   ]
  },
  {
   "cell_type": "code",
   "execution_count": 17,
   "id": "ea2ccb0d",
   "metadata": {},
   "outputs": [],
   "source": [
    "# Saving the file after all adjustments\n",
    "df.to_excel('property_finder_combined_3.xlsx', index=False, engine='openpyxl')"
   ]
  },
  {
   "cell_type": "code",
   "execution_count": 18,
   "id": "1cd3b732",
   "metadata": {},
   "outputs": [
    {
     "data": {
      "text/plain": [
       "City\n",
       "Cairo        250,000,000.00\n",
       "Alexandria   333,300,000.00\n",
       "Name: Price, dtype: float64"
      ]
     },
     "execution_count": 18,
     "metadata": {},
     "output_type": "execute_result"
    }
   ],
   "source": [
    "df.groupby(['City'])['Price'].max().sort_values()"
   ]
  },
  {
   "cell_type": "code",
   "execution_count": 19,
   "id": "0397fd81",
   "metadata": {},
   "outputs": [
    {
     "data": {
      "text/plain": [
       "City\n",
       "Alexandria    2384\n",
       "Cairo         2349\n",
       "Name: count, dtype: int64"
      ]
     },
     "execution_count": 19,
     "metadata": {},
     "output_type": "execute_result"
    }
   ],
   "source": [
    "df['City'].value_counts()"
   ]
  },
  {
   "cell_type": "code",
   "execution_count": 20,
   "id": "52c5afb5",
   "metadata": {},
   "outputs": [
    {
     "data": {
      "text/plain": [
       "<Axes: title={'center': 'Property Types Distribution'}, xlabel='Property_type'>"
      ]
     },
     "execution_count": 20,
     "metadata": {},
     "output_type": "execute_result"
    },
    {
     "data": {
      "image/png": "[encoded data removed]",
      "text/plain": [
       "<Figure size 640x480 with 1 Axes>"
      ]
     },
     "metadata": {},
     "output_type": "display_data"
    }
   ],
   "source": [
    "df['Property_type'].value_counts().plot(kind='bar', title='Property Types Distribution')"
   ]
  },
  {
   "cell_type": "code",
   "execution_count": 21,
   "id": "1b2631b2",
   "metadata": {},
   "outputs": [
    {
     "data": {
      "text/plain": [
       "<Axes: title={'center': 'Avg Price per Property Type'}, ylabel='Property_type'>"
      ]
     },
     "execution_count": 21,
     "metadata": {},
     "output_type": "execute_result"
    },
    {
     "data": {
      "image/png": "[encoded data removed]",
      "text/plain": [
       "<Figure size 640x480 with 1 Axes>"
      ]
     },
     "metadata": {},
     "output_type": "display_data"
    }
   ],
   "source": [
    "df.groupby('Property_type')['Price'].mean().sort_values().plot(kind='barh', title='Avg Price per Property Type')"
   ]
  },
  {
   "cell_type": "code",
   "execution_count": 22,
   "id": "bbd26ddf",
   "metadata": {},
   "outputs": [
    {
     "data": {
      "text/plain": [
       "<Axes: xlabel='Total_rooms', ylabel='Price'>"
      ]
     },
     "execution_count": 22,
     "metadata": {},
     "output_type": "execute_result"
    },
    {
     "data": {
      "image/png": "[encoded data removed]",
      "text/plain": [
       "<Figure size 640x480 with 1 Axes>"
      ]
     },
     "metadata": {},
     "output_type": "display_data"
    }
   ],
   "source": [
    "sns.scatterplot(data=df, x='Total_rooms', y='Price', hue='City')"
   ]
  },
  {
   "cell_type": "code",
   "execution_count": 23,
   "id": "f92bc4c4",
   "metadata": {},
   "outputs": [
    {
     "data": {
      "text/plain": [
       "<Axes: title={'center': 'Properties per City'}, ylabel='count'>"
      ]
     },
     "execution_count": 23,
     "metadata": {},
     "output_type": "execute_result"
    },
    {
     "data": {
      "image/png": "[encoded data removed]",
      "text/plain": [
       "<Figure size 640x480 with 1 Axes>"
      ]
     },
     "metadata": {},
     "output_type": "display_data"
    }
   ],
   "source": [
    "df['City'].value_counts().plot(kind='pie', autopct='%1.1f%%', title='Properties per City')\n"
   ]
  },
  {
   "cell_type": "code",
   "execution_count": 24,
   "id": "bdf36287",
   "metadata": {},
   "outputs": [
    {
     "data": {
      "image/png": "[encoded data removed]",
      "text/plain": [
       "<Figure size 640x480 with 1 Axes>"
      ]
     },
     "metadata": {},
     "output_type": "display_data"
    }
   ],
   "source": [
    "month_order = ['January', 'February', 'March', 'April', 'May', 'June',\n",
    "               'July', 'August', 'September', 'October', 'November', 'December']\n",
    "df['Listed_Month'] = pd.Categorical(df['Listed_Month'], categories=month_order, ordered=True)\n",
    "\n",
    "df['Listed_Month'].value_counts(sort=False).plot(kind='bar', title='Listings per Month')\n",
    "plt.xlabel('Month')\n",
    "plt.ylabel('Number of Listings')\n",
    "plt.xticks(rotation=45)\n",
    "plt.tight_layout()\n",
    "plt.show()\n"
   ]
  },
  {
   "cell_type": "markdown",
   "id": "d8694532",
   "metadata": {},
   "source": [
    "# Price Prediction #"
   ]
  },
  {
   "cell_type": "markdown",
   "id": "346b5a8b",
   "metadata": {},
   "source": [
    "Importing essential modules for performing the prediction"
   ]
  },
  {
   "cell_type": "code",
   "execution_count": 25,
   "id": "317d3d61",
   "metadata": {},
   "outputs": [],
   "source": [
    "\n",
    "from sklearn.model_selection import train_test_split\n",
    "from sklearn.linear_model import LinearRegression\n",
    "from sklearn.metrics import mean_absolute_error, r2_score \n",
    "from sklearn.metrics import mean_squared_error\n",
    "from sklearn.preprocessing import StandardScaler, OneHotEncoder\n",
    "from scipy import stats"
   ]
  },
  {
   "cell_type": "markdown",
   "id": "937d3abf",
   "metadata": {},
   "source": [
    "As you can see there are outliers this will affect our model and will reduce the accuracy"
   ]
  },
  {
   "cell_type": "code",
   "execution_count": 26,
   "id": "67b3acad",
   "metadata": {},
   "outputs": [
    {
     "data": {
      "image/png": "[encoded data removed]",
      "text/plain": [
       "<Figure size 1000x400 with 1 Axes>"
      ]
     },
     "metadata": {},
     "output_type": "display_data"
    }
   ],
   "source": [
    "import seaborn as sns\n",
    "import matplotlib.pyplot as plt\n",
    "\n",
    "plt.figure(figsize=(10, 4))\n",
    "sns.boxplot(x=df['Price'])\n",
    "plt.title('Boxplot for Price')\n",
    "plt.show()"
   ]
  },
  {
   "cell_type": "code",
   "execution_count": 27,
   "id": "88698d16",
   "metadata": {},
   "outputs": [],
   "source": [
    "# Removing top 5% of price data \n",
    "price_threshold = df['Price'].quantile(0.95)\n",
    "df = df[df['Price'] < price_threshold]"
   ]
  },
  {
   "cell_type": "code",
   "execution_count": 28,
   "id": "e0118894",
   "metadata": {},
   "outputs": [
    {
     "data": {
      "image/png": "[encoded data removed]",
      "text/plain": [
       "<Figure size 1000x400 with 1 Axes>"
      ]
     },
     "metadata": {},
     "output_type": "display_data"
    }
   ],
   "source": [
    "import seaborn as sns\n",
    "import matplotlib.pyplot as plt\n",
    "\n",
    "plt.figure(figsize=(10, 4))\n",
    "sns.boxplot(x=df['Price'])\n",
    "plt.title('Boxplot for Price')\n",
    "plt.show()"
   ]
  },
  {
   "cell_type": "markdown",
   "id": "7160f044",
   "metadata": {},
   "source": [
    "Select Features (X) and Target (y)\n",
    "\n",
    "we are predicting the price so the price is the target"
   ]
  },
  {
   "cell_type": "code",
   "execution_count": 29,
   "id": "ba03c73a",
   "metadata": {},
   "outputs": [],
   "source": [
    "y = df['Price']\n",
    "X = df[['Property_type','Area_in_sqm','Listed_Month','City', 'Total_rooms', 'Price_per_sqm','Price_per_room']]"
   ]
  },
  {
   "cell_type": "markdown",
   "id": "c09e9d13",
   "metadata": {},
   "source": [
    "Perform one-hot encoding for Categorical Variables (Here i have used the one hot encoding in Pandas)"
   ]
  },
  {
   "cell_type": "code",
   "execution_count": 30,
   "id": "60598cad",
   "metadata": {},
   "outputs": [],
   "source": [
    "X = pd.get_dummies(X, columns=['Property_type','Listed_Month','City'], drop_first=True)"
   ]
  },
  {
   "cell_type": "markdown",
   "id": "69ce8872",
   "metadata": {},
   "source": [
    "You see the different variance or scale of each column that will affect our model very badly , so the solution is to perform feature scalling"
   ]
  },
  {
   "cell_type": "code",
   "execution_count": 31,
   "id": "c75e944a",
   "metadata": {},
   "outputs": [
    {
     "data": {
      "text/html": [
       "<div>\n",
       "<style scoped>\n",
       "    .dataframe tbody tr th:only-of-type {\n",
       "        vertical-align: middle;\n",
       "    }\n",
       "\n",
       "    .dataframe tbody tr th {\n",
       "        vertical-align: top;\n",
       "    }\n",
       "\n",
       "    .dataframe thead th {\n",
       "        text-align: right;\n",
       "    }\n",
       "</style>\n",
       "<table border=\"1\" class=\"dataframe\">\n",
       "  <thead>\n",
       "    <tr style=\"text-align: right;\">\n",
       "      <th></th>\n",
       "      <th>Area_in_sqm</th>\n",
       "      <th>Total_rooms</th>\n",
       "      <th>Price_per_sqm</th>\n",
       "      <th>Price_per_room</th>\n",
       "    </tr>\n",
       "  </thead>\n",
       "  <tbody>\n",
       "    <tr>\n",
       "      <th>count</th>\n",
       "      <td>4,549.00</td>\n",
       "      <td>4,549.00</td>\n",
       "      <td>4,549.00</td>\n",
       "      <td>4,549.00</td>\n",
       "    </tr>\n",
       "    <tr>\n",
       "      <th>mean</th>\n",
       "      <td>4,368.94</td>\n",
       "      <td>5.48</td>\n",
       "      <td>43,717.64</td>\n",
       "      <td>1,479,219.37</td>\n",
       "    </tr>\n",
       "    <tr>\n",
       "      <th>std</th>\n",
       "      <td>281,702.87</td>\n",
       "      <td>1.68</td>\n",
       "      <td>25,311.69</td>\n",
       "      <td>851,159.95</td>\n",
       "    </tr>\n",
       "    <tr>\n",
       "      <th>min</th>\n",
       "      <td>25.00</td>\n",
       "      <td>2.00</td>\n",
       "      <td>1.00</td>\n",
       "      <td>33,333.33</td>\n",
       "    </tr>\n",
       "    <tr>\n",
       "      <th>25%</th>\n",
       "      <td>140.00</td>\n",
       "      <td>4.00</td>\n",
       "      <td>25,617.28</td>\n",
       "      <td>875,000.00</td>\n",
       "    </tr>\n",
       "    <tr>\n",
       "      <th>50%</th>\n",
       "      <td>170.00</td>\n",
       "      <td>5.00</td>\n",
       "      <td>36,931.82</td>\n",
       "      <td>1,250,000.00</td>\n",
       "    </tr>\n",
       "    <tr>\n",
       "      <th>75%</th>\n",
       "      <td>217.00</td>\n",
       "      <td>6.00</td>\n",
       "      <td>55,384.62</td>\n",
       "      <td>1,904,962.86</td>\n",
       "    </tr>\n",
       "    <tr>\n",
       "      <th>max</th>\n",
       "      <td>19,000,000.00</td>\n",
       "      <td>14.00</td>\n",
       "      <td>350,000.00</td>\n",
       "      <td>7,450,000.00</td>\n",
       "    </tr>\n",
       "  </tbody>\n",
       "</table>\n",
       "</div>"
      ],
      "text/plain": [
       "        Area_in_sqm  Total_rooms  Price_per_sqm  Price_per_room\n",
       "count      4,549.00     4,549.00       4,549.00        4,549.00\n",
       "mean       4,368.94         5.48      43,717.64    1,479,219.37\n",
       "std      281,702.87         1.68      25,311.69      851,159.95\n",
       "min           25.00         2.00           1.00       33,333.33\n",
       "25%          140.00         4.00      25,617.28      875,000.00\n",
       "50%          170.00         5.00      36,931.82    1,250,000.00\n",
       "75%          217.00         6.00      55,384.62    1,904,962.86\n",
       "max   19,000,000.00        14.00     350,000.00    7,450,000.00"
      ]
     },
     "execution_count": 31,
     "metadata": {},
     "output_type": "execute_result"
    }
   ],
   "source": [
    "X.describe()"
   ]
  },
  {
   "cell_type": "code",
   "execution_count": 32,
   "id": "4cbff437",
   "metadata": {},
   "outputs": [
    {
     "data": {
      "text/plain": [
       "array([[-0.01471192,  0.30897761, -0.76151835, ..., -0.20356259,\n",
       "        -0.20179927,  1.05445951],\n",
       "       [-0.01499239, -0.28583371, -0.26867333, ..., -0.20356259,\n",
       "        -0.20179927,  1.05445951],\n",
       "       [-0.01483618,  0.30897761,  1.59994608, ..., -0.20356259,\n",
       "        -0.20179927,  1.05445951],\n",
       "       ...,\n",
       "       [-0.01474743,  0.30897761, -0.67984   , ..., -0.20356259,\n",
       "         4.95541923, -0.94835315],\n",
       "       [-0.01481843,  0.30897761,  0.19757117, ..., -0.20356259,\n",
       "         4.95541923, -0.94835315],\n",
       "       [-0.01451666,  0.90378893,  0.17767067, ..., -0.20356259,\n",
       "         4.95541923, -0.94835315]], shape=(4549, 26))"
      ]
     },
     "execution_count": 32,
     "metadata": {},
     "output_type": "execute_result"
    }
   ],
   "source": [
    "scaler = StandardScaler()\n",
    "scaler.fit_transform(X)"
   ]
  },
  {
   "cell_type": "markdown",
   "id": "6522783c",
   "metadata": {},
   "source": [
    "splitting the data into train(80%) and test (20%)"
   ]
  },
  {
   "cell_type": "code",
   "execution_count": 33,
   "id": "ec20d229",
   "metadata": {},
   "outputs": [],
   "source": [
    "X_train, X_test, y_train, y_test = train_test_split(X, y, test_size=0.2, random_state=42)"
   ]
  },
  {
   "cell_type": "markdown",
   "id": "06566f53",
   "metadata": {},
   "source": [
    "Create Linear Regression Model and Train it"
   ]
  },
  {
   "cell_type": "code",
   "execution_count": 34,
   "id": "6aee335c",
   "metadata": {},
   "outputs": [
    {
     "data": {
      "text/html": [
       "<style>#sk-container-id-1 {\n",
       "  /* Definition of color scheme common for light and dark mode */\n",
       "  --sklearn-color-text: #000;\n",
       "  --sklearn-color-text-muted: #666;\n",
       "  --sklearn-color-line: gray;\n",
       "  /* Definition of color scheme for unfitted estimators */\n",
       "  --sklearn-color-unfitted-level-0: #fff5e6;\n",
       "  --sklearn-color-unfitted-level-1: #f6e4d2;\n",
       "  --sklearn-color-unfitted-level-2: #ffe0b3;\n",
       "  --sklearn-color-unfitted-level-3: chocolate;\n",
       "  /* Definition of color scheme for fitted estimators */\n",
       "  --sklearn-color-fitted-level-0: #f0f8ff;\n",
       "  --sklearn-color-fitted-level-1: #d4ebff;\n",
       "  --sklearn-color-fitted-level-2: #b3dbfd;\n",
       "  --sklearn-color-fitted-level-3: cornflowerblue;\n",
       "\n",
       "  /* Specific color for light theme */\n",
       "  --sklearn-color-text-on-default-background: var(--sg-text-color, var(--theme-code-foreground, var(--jp-content-font-color1, black)));\n",
       "  --sklearn-color-background: var(--sg-background-color, var(--theme-background, var(--jp-layout-color0, white)));\n",
       "  --sklearn-color-border-box: var(--sg-text-color, var(--theme-code-foreground, var(--jp-content-font-color1, black)));\n",
       "  --sklearn-color-icon: #696969;\n",
       "\n",
       "  @media (prefers-color-scheme: dark) {\n",
       "    /* Redefinition of color scheme for dark theme */\n",
       "    --sklearn-color-text-on-default-background: var(--sg-text-color, var(--theme-code-foreground, var(--jp-content-font-color1, white)));\n",
       "    --sklearn-color-background: var(--sg-background-color, var(--theme-background, var(--jp-layout-color0, #111)));\n",
       "    --sklearn-color-border-box: var(--sg-text-color, var(--theme-code-foreground, var(--jp-content-font-color1, white)));\n",
       "    --sklearn-color-icon: #878787;\n",
       "  }\n",
       "}\n",
       "\n",
       "#sk-container-id-1 {\n",
       "  color: var(--sklearn-color-text);\n",
       "}\n",
       "\n",
       "#sk-container-id-1 pre {\n",
       "  padding: 0;\n",
       "}\n",
       "\n",
       "#sk-container-id-1 input.sk-hidden--visually {\n",
       "  border: 0;\n",
       "  clip: rect(1px 1px 1px 1px);\n",
       "  clip: rect(1px, 1px, 1px, 1px);\n",
       "  height: 1px;\n",
       "  margin: -1px;\n",
       "  overflow: hidden;\n",
       "  padding: 0;\n",
       "  position: absolute;\n",
       "  width: 1px;\n",
       "}\n",
       "\n",
       "#sk-container-id-1 div.sk-dashed-wrapped {\n",
       "  border: 1px dashed var(--sklearn-color-line);\n",
       "  margin: 0 0.4em 0.5em 0.4em;\n",
       "  box-sizing: border-box;\n",
       "  padding-bottom: 0.4em;\n",
       "  background-color: var(--sklearn-color-background);\n",
       "}\n",
       "\n",
       "#sk-container-id-1 div.sk-container {\n",
       "  /* jupyter's `normalize.less` sets `[hidden] { display: none; }`\n",
       "     but bootstrap.min.css set `[hidden] { display: none !important; }`\n",
       "     so we also need the `!important` here to be able to override the\n",
       "     default hidden behavior on the sphinx rendered scikit-learn.org.\n",
       "     See: https://github.com/scikit-learn/scikit-learn/issues/21755 */\n",
       "  display: inline-block !important;\n",
       "  position: relative;\n",
       "}\n",
       "\n",
       "#sk-container-id-1 div.sk-text-repr-fallback {\n",
       "  display: none;\n",
       "}\n",
       "\n",
       "div.sk-parallel-item,\n",
       "div.sk-serial,\n",
       "div.sk-item {\n",
       "  /* draw centered vertical line to link estimators */\n",
       "  background-image: linear-gradient(var(--sklearn-color-text-on-default-background), var(--sklearn-color-text-on-default-background));\n",
       "  background-size: 2px 100%;\n",
       "  background-repeat: no-repeat;\n",
       "  background-position: center center;\n",
       "}\n",
       "\n",
       "/* Parallel-specific style estimator block */\n",
       "\n",
       "#sk-container-id-1 div.sk-parallel-item::after {\n",
       "  content: \"\";\n",
       "  width: 100%;\n",
       "  border-bottom: 2px solid var(--sklearn-color-text-on-default-background);\n",
       "  flex-grow: 1;\n",
       "}\n",
       "\n",
       "#sk-container-id-1 div.sk-parallel {\n",
       "  display: flex;\n",
       "  align-items: stretch;\n",
       "  justify-content: center;\n",
       "  background-color: var(--sklearn-color-background);\n",
       "  position: relative;\n",
       "}\n",
       "\n",
       "#sk-container-id-1 div.sk-parallel-item {\n",
       "  display: flex;\n",
       "  flex-direction: column;\n",
       "}\n",
       "\n",
       "#sk-container-id-1 div.sk-parallel-item:first-child::after {\n",
       "  align-self: flex-end;\n",
       "  width: 50%;\n",
       "}\n",
       "\n",
       "#sk-container-id-1 div.sk-parallel-item:last-child::after {\n",
       "  align-self: flex-start;\n",
       "  width: 50%;\n",
       "}\n",
       "\n",
       "#sk-container-id-1 div.sk-parallel-item:only-child::after {\n",
       "  width: 0;\n",
       "}\n",
       "\n",
       "/* Serial-specific style estimator block */\n",
       "\n",
       "#sk-container-id-1 div.sk-serial {\n",
       "  display: flex;\n",
       "  flex-direction: column;\n",
       "  align-items: center;\n",
       "  background-color: var(--sklearn-color-background);\n",
       "  padding-right: 1em;\n",
       "  padding-left: 1em;\n",
       "}\n",
       "\n",
       "\n",
       "/* Toggleable style: style used for estimator/Pipeline/ColumnTransformer box that is\n",
       "clickable and can be expanded/collapsed.\n",
       "- Pipeline and ColumnTransformer use this feature and define the default style\n",
       "- Estimators will overwrite some part of the style using the `sk-estimator` class\n",
       "*/\n",
       "\n",
       "/* Pipeline and ColumnTransformer style (default) */\n",
       "\n",
       "#sk-container-id-1 div.sk-toggleable {\n",
       "  /* Default theme specific background. It is overwritten whether we have a\n",
       "  specific estimator or a Pipeline/ColumnTransformer */\n",
       "  background-color: var(--sklearn-color-background);\n",
       "}\n",
       "\n",
       "/* Toggleable label */\n",
       "#sk-container-id-1 label.sk-toggleable__label {\n",
       "  cursor: pointer;\n",
       "  display: flex;\n",
       "  width: 100%;\n",
       "  margin-bottom: 0;\n",
       "  padding: 0.5em;\n",
       "  box-sizing: border-box;\n",
       "  text-align: center;\n",
       "  align-items: start;\n",
       "  justify-content: space-between;\n",
       "  gap: 0.5em;\n",
       "}\n",
       "\n",
       "#sk-container-id-1 label.sk-toggleable__label .caption {\n",
       "  font-size: 0.6rem;\n",
       "  font-weight: lighter;\n",
       "  color: var(--sklearn-color-text-muted);\n",
       "}\n",
       "\n",
       "#sk-container-id-1 label.sk-toggleable__label-arrow:before {\n",
       "  /* Arrow on the left of the label */\n",
       "  content: \"▸\";\n",
       "  float: left;\n",
       "  margin-right: 0.25em;\n",
       "  color: var(--sklearn-color-icon);\n",
       "}\n",
       "\n",
       "#sk-container-id-1 label.sk-toggleable__label-arrow:hover:before {\n",
       "  color: var(--sklearn-color-text);\n",
       "}\n",
       "\n",
       "/* Toggleable content - dropdown */\n",
       "\n",
       "#sk-container-id-1 div.sk-toggleable__content {\n",
       "  max-height: 0;\n",
       "  max-width: 0;\n",
       "  overflow: hidden;\n",
       "  text-align: left;\n",
       "  /* unfitted */\n",
       "  background-color: var(--sklearn-color-unfitted-level-0);\n",
       "}\n",
       "\n",
       "#sk-container-id-1 div.sk-toggleable__content.fitted {\n",
       "  /* fitted */\n",
       "  background-color: var(--sklearn-color-fitted-level-0);\n",
       "}\n",
       "\n",
       "#sk-container-id-1 div.sk-toggleable__content pre {\n",
       "  margin: 0.2em;\n",
       "  border-radius: 0.25em;\n",
       "  color: var(--sklearn-color-text);\n",
       "  /* unfitted */\n",
       "  background-color: var(--sklearn-color-unfitted-level-0);\n",
       "}\n",
       "\n",
       "#sk-container-id-1 div.sk-toggleable__content.fitted pre {\n",
       "  /* unfitted */\n",
       "  background-color: var(--sklearn-color-fitted-level-0);\n",
       "}\n",
       "\n",
       "#sk-container-id-1 input.sk-toggleable__control:checked~div.sk-toggleable__content {\n",
       "  /* Expand drop-down */\n",
       "  max-height: 200px;\n",
       "  max-width: 100%;\n",
       "  overflow: auto;\n",
       "}\n",
       "\n",
       "#sk-container-id-1 input.sk-toggleable__control:checked~label.sk-toggleable__label-arrow:before {\n",
       "  content: \"▾\";\n",
       "}\n",
       "\n",
       "/* Pipeline/ColumnTransformer-specific style */\n",
       "\n",
       "#sk-container-id-1 div.sk-label input.sk-toggleable__control:checked~label.sk-toggleable__label {\n",
       "  color: var(--sklearn-color-text);\n",
       "  background-color: var(--sklearn-color-unfitted-level-2);\n",
       "}\n",
       "\n",
       "#sk-container-id-1 div.sk-label.fitted input.sk-toggleable__control:checked~label.sk-toggleable__label {\n",
       "  background-color: var(--sklearn-color-fitted-level-2);\n",
       "}\n",
       "\n",
       "/* Estimator-specific style */\n",
       "\n",
       "/* Colorize estimator box */\n",
       "#sk-container-id-1 div.sk-estimator input.sk-toggleable__control:checked~label.sk-toggleable__label {\n",
       "  /* unfitted */\n",
       "  background-color: var(--sklearn-color-unfitted-level-2);\n",
       "}\n",
       "\n",
       "#sk-container-id-1 div.sk-estimator.fitted input.sk-toggleable__control:checked~label.sk-toggleable__label {\n",
       "  /* fitted */\n",
       "  background-color: var(--sklearn-color-fitted-level-2);\n",
       "}\n",
       "\n",
       "#sk-container-id-1 div.sk-label label.sk-toggleable__label,\n",
       "#sk-container-id-1 div.sk-label label {\n",
       "  /* The background is the default theme color */\n",
       "  color: var(--sklearn-color-text-on-default-background);\n",
       "}\n",
       "\n",
       "/* On hover, darken the color of the background */\n",
       "#sk-container-id-1 div.sk-label:hover label.sk-toggleable__label {\n",
       "  color: var(--sklearn-color-text);\n",
       "  background-color: var(--sklearn-color-unfitted-level-2);\n",
       "}\n",
       "\n",
       "/* Label box, darken color on hover, fitted */\n",
       "#sk-container-id-1 div.sk-label.fitted:hover label.sk-toggleable__label.fitted {\n",
       "  color: var(--sklearn-color-text);\n",
       "  background-color: var(--sklearn-color-fitted-level-2);\n",
       "}\n",
       "\n",
       "/* Estimator label */\n",
       "\n",
       "#sk-container-id-1 div.sk-label label {\n",
       "  font-family: monospace;\n",
       "  font-weight: bold;\n",
       "  display: inline-block;\n",
       "  line-height: 1.2em;\n",
       "}\n",
       "\n",
       "#sk-container-id-1 div.sk-label-container {\n",
       "  text-align: center;\n",
       "}\n",
       "\n",
       "/* Estimator-specific */\n",
       "#sk-container-id-1 div.sk-estimator {\n",
       "  font-family: monospace;\n",
       "  border: 1px dotted var(--sklearn-color-border-box);\n",
       "  border-radius: 0.25em;\n",
       "  box-sizing: border-box;\n",
       "  margin-bottom: 0.5em;\n",
       "  /* unfitted */\n",
       "  background-color: var(--sklearn-color-unfitted-level-0);\n",
       "}\n",
       "\n",
       "#sk-container-id-1 div.sk-estimator.fitted {\n",
       "  /* fitted */\n",
       "  background-color: var(--sklearn-color-fitted-level-0);\n",
       "}\n",
       "\n",
       "/* on hover */\n",
       "#sk-container-id-1 div.sk-estimator:hover {\n",
       "  /* unfitted */\n",
       "  background-color: var(--sklearn-color-unfitted-level-2);\n",
       "}\n",
       "\n",
       "#sk-container-id-1 div.sk-estimator.fitted:hover {\n",
       "  /* fitted */\n",
       "  background-color: var(--sklearn-color-fitted-level-2);\n",
       "}\n",
       "\n",
       "/* Specification for estimator info (e.g. \"i\" and \"?\") */\n",
       "\n",
       "/* Common style for \"i\" and \"?\" */\n",
       "\n",
       ".sk-estimator-doc-link,\n",
       "a:link.sk-estimator-doc-link,\n",
       "a:visited.sk-estimator-doc-link {\n",
       "  float: right;\n",
       "  font-size: smaller;\n",
       "  line-height: 1em;\n",
       "  font-family: monospace;\n",
       "  background-color: var(--sklearn-color-background);\n",
       "  border-radius: 1em;\n",
       "  height: 1em;\n",
       "  width: 1em;\n",
       "  text-decoration: none !important;\n",
       "  margin-left: 0.5em;\n",
       "  text-align: center;\n",
       "  /* unfitted */\n",
       "  border: var(--sklearn-color-unfitted-level-1) 1pt solid;\n",
       "  color: var(--sklearn-color-unfitted-level-1);\n",
       "}\n",
       "\n",
       ".sk-estimator-doc-link.fitted,\n",
       "a:link.sk-estimator-doc-link.fitted,\n",
       "a:visited.sk-estimator-doc-link.fitted {\n",
       "  /* fitted */\n",
       "  border: var(--sklearn-color-fitted-level-1) 1pt solid;\n",
       "  color: var(--sklearn-color-fitted-level-1);\n",
       "}\n",
       "\n",
       "/* On hover */\n",
       "div.sk-estimator:hover .sk-estimator-doc-link:hover,\n",
       ".sk-estimator-doc-link:hover,\n",
       "div.sk-label-container:hover .sk-estimator-doc-link:hover,\n",
       ".sk-estimator-doc-link:hover {\n",
       "  /* unfitted */\n",
       "  background-color: var(--sklearn-color-unfitted-level-3);\n",
       "  color: var(--sklearn-color-background);\n",
       "  text-decoration: none;\n",
       "}\n",
       "\n",
       "div.sk-estimator.fitted:hover .sk-estimator-doc-link.fitted:hover,\n",
       ".sk-estimator-doc-link.fitted:hover,\n",
       "div.sk-label-container:hover .sk-estimator-doc-link.fitted:hover,\n",
       ".sk-estimator-doc-link.fitted:hover {\n",
       "  /* fitted */\n",
       "  background-color: var(--sklearn-color-fitted-level-3);\n",
       "  color: var(--sklearn-color-background);\n",
       "  text-decoration: none;\n",
       "}\n",
       "\n",
       "/* Span, style for the box shown on hovering the info icon */\n",
       ".sk-estimator-doc-link span {\n",
       "  display: none;\n",
       "  z-index: 9999;\n",
       "  position: relative;\n",
       "  font-weight: normal;\n",
       "  right: .2ex;\n",
       "  padding: .5ex;\n",
       "  margin: .5ex;\n",
       "  width: min-content;\n",
       "  min-width: 20ex;\n",
       "  max-width: 50ex;\n",
       "  color: var(--sklearn-color-text);\n",
       "  box-shadow: 2pt 2pt 4pt #999;\n",
       "  /* unfitted */\n",
       "  background: var(--sklearn-color-unfitted-level-0);\n",
       "  border: .5pt solid var(--sklearn-color-unfitted-level-3);\n",
       "}\n",
       "\n",
       ".sk-estimator-doc-link.fitted span {\n",
       "  /* fitted */\n",
       "  background: var(--sklearn-color-fitted-level-0);\n",
       "  border: var(--sklearn-color-fitted-level-3);\n",
       "}\n",
       "\n",
       ".sk-estimator-doc-link:hover span {\n",
       "  display: block;\n",
       "}\n",
       "\n",
       "/* \"?\"-specific style due to the `<a>` HTML tag */\n",
       "\n",
       "#sk-container-id-1 a.estimator_doc_link {\n",
       "  float: right;\n",
       "  font-size: 1rem;\n",
       "  line-height: 1em;\n",
       "  font-family: monospace;\n",
       "  background-color: var(--sklearn-color-background);\n",
       "  border-radius: 1rem;\n",
       "  height: 1rem;\n",
       "  width: 1rem;\n",
       "  text-decoration: none;\n",
       "  /* unfitted */\n",
       "  color: var(--sklearn-color-unfitted-level-1);\n",
       "  border: var(--sklearn-color-unfitted-level-1) 1pt solid;\n",
       "}\n",
       "\n",
       "#sk-container-id-1 a.estimator_doc_link.fitted {\n",
       "  /* fitted */\n",
       "  border: var(--sklearn-color-fitted-level-1) 1pt solid;\n",
       "  color: var(--sklearn-color-fitted-level-1);\n",
       "}\n",
       "\n",
       "/* On hover */\n",
       "#sk-container-id-1 a.estimator_doc_link:hover {\n",
       "  /* unfitted */\n",
       "  background-color: var(--sklearn-color-unfitted-level-3);\n",
       "  color: var(--sklearn-color-background);\n",
       "  text-decoration: none;\n",
       "}\n",
       "\n",
       "#sk-container-id-1 a.estimator_doc_link.fitted:hover {\n",
       "  /* fitted */\n",
       "  background-color: var(--sklearn-color-fitted-level-3);\n",
       "}\n",
       "</style><div id=\"sk-container-id-1\" class=\"sk-top-container\"><div class=\"sk-text-repr-fallback\"><pre>LinearRegression()</pre><b>In a Jupyter environment, please rerun this cell to show the HTML representation or trust the notebook. <br />On GitHub, the HTML representation is unable to render, please try loading this page with nbviewer.org.</b></div><div class=\"sk-container\" hidden><div class=\"sk-item\"><div class=\"sk-estimator fitted sk-toggleable\"><input class=\"sk-toggleable__control sk-hidden--visually\" id=\"sk-estimator-id-1\" type=\"checkbox\" checked><label for=\"sk-estimator-id-1\" class=\"sk-toggleable__label fitted sk-toggleable__label-arrow\"><div><div>LinearRegression</div></div><div><a class=\"sk-estimator-doc-link fitted\" rel=\"noreferrer\" target=\"_blank\" href=\"https://scikit-learn.org/1.6/modules/generated/sklearn.linear_model.LinearRegression.html\">?<span>Documentation for LinearRegression</span></a><span class=\"sk-estimator-doc-link fitted\">i<span>Fitted</span></span></div></label><div class=\"sk-toggleable__content fitted\"><pre>LinearRegression()</pre></div> </div></div></div></div>"
      ],
      "text/plain": [
       "LinearRegression()"
      ]
     },
     "execution_count": 34,
     "metadata": {},
     "output_type": "execute_result"
    }
   ],
   "source": [
    "model = LinearRegression()\n",
    "model.fit(X_train, y_train)"
   ]
  },
  {
   "cell_type": "markdown",
   "id": "9c87b4f9",
   "metadata": {},
   "source": [
    "Predict and Evalute"
   ]
  },
  {
   "cell_type": "code",
   "execution_count": 35,
   "id": "e5f1868e",
   "metadata": {},
   "outputs": [
    {
     "name": "stdout",
     "output_type": "stream",
     "text": [
      "Mean Square Error: 1933818810095.77\n",
      "RMSE 1390618.14\n",
      "Relative Error:  16.75 %\n"
     ]
    }
   ],
   "source": [
    "y_pred = model.predict(X_test)\n",
    "mse = mean_squared_error(y_test, y_pred)\n",
    "rmse = np.sqrt(mse)\n",
    "\n",
    "print(\"Mean Square Error:\", round(mse, 2))\n",
    "print('RMSE',round(rmse, 2))\n",
    "\n",
    "average_price = y.mean()\n",
    "relative_error = ((rmse / average_price)*100).round(2)\n",
    "print(\"Relative Error: \",relative_error , '%')"
   ]
  }
 ],
 "metadata": {
  "kernelspec": {
   "display_name": "Python 3",
   "language": "python",
   "name": "python3"
  },
  "language_info": {
   "codemirror_mode": {
    "name": "ipython",
    "version": 3
   },
   "file_extension": ".py",
   "mimetype": "text/x-python",
   "name": "python",
   "nbconvert_exporter": "python",
   "pygments_lexer": "ipython3",
   "version": "3.11.3"
  }
 },
 "nbformat": 4,
 "nbformat_minor": 5
}
